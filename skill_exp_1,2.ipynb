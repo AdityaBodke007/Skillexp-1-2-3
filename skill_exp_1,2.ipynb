{
  "nbformat": 4,
  "nbformat_minor": 0,
  "metadata": {
    "colab": {
      "provenance": [],
      "authorship_tag": "ABX9TyPRVO0mBDMlwn2oRvOB0q5A",
      "include_colab_link": true
    },
    "kernelspec": {
      "name": "python3",
      "display_name": "Python 3"
    },
    "language_info": {
      "name": "python"
    }
  },
  "cells": [
    {
      "cell_type": "markdown",
      "metadata": {
        "id": "view-in-github",
        "colab_type": "text"
      },
      "source": [
        "<a href=\"https://colab.research.google.com/github/AdityaBodke007/Skillexp-1-2-3/blob/main/skill_exp_1%2C2.ipynb\" target=\"_parent\"><img src=\"https://colab.research.google.com/assets/colab-badge.svg\" alt=\"Open In Colab\"/></a>"
      ]
    },
    {
      "cell_type": "markdown",
      "source": [
        "exp 1"
      ],
      "metadata": {
        "id": "hWzoAUDxOrks"
      }
    },
    {
      "cell_type": "code",
      "execution_count": null,
      "metadata": {
        "id": "6JXgv0c_OjLs"
      },
      "outputs": [],
      "source": [
        "\n",
        "Import drive from google.colab\n",
        "\n",
        "\n",
        "from google.colab import drive\n",
        "drive.mount('/content/drive')\n",
        "import pandas as pd\n",
        "\n",
        "Mounted at /content/drive\n",
        "\n",
        "url1 = '/content/winequality-red.csv'\n",
        "url2 = '/content/winequality-white.csv'\n",
        "\n",
        "df1 = pd.read_csv(url1,delimiter = ';')\n",
        "df2 = pd.read_csv(url2,delimiter = ';')\n",
        "\n",
        "print(df1.head())\n",
        "print(df2.head())\n",
        "\n",
        "\n",
        "merged_df = pd.concat([df1, df2])\n",
        "print(merged_df.head())\n",
        "\n",
        "renamed_df = merged_df.rename(columns = {'fixed acidity': 'acidity'})\n",
        "print(renamed_df.head())"
      ]
    },
    {
      "cell_type": "markdown",
      "source": [
        "exp 2"
      ],
      "metadata": {
        "id": "gmsmsuDaOu5l"
      }
    },
    {
      "cell_type": "code",
      "source": [
        "from google.colab import drive\n",
        "drive.mount('/content/drive')\n",
        "import pandas as pd\n",
        "\n",
        "urlD = '/content/sample_data/Diabetes Missing Data.csv'\n",
        "\n",
        "dfD = pd.read_csv(urlD)\n",
        "print(dfD.head())\n",
        "\n",
        "\n",
        "dfD.dropna(inplace = True)\n",
        "print(dfD.head())"
      ],
      "metadata": {
        "id": "xJxEKzjYOuc1"
      },
      "execution_count": null,
      "outputs": []
    }
  ]
}